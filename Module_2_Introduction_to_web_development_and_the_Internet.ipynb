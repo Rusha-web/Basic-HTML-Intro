{
  "nbformat": 4,
  "nbformat_minor": 0,
  "metadata": {
    "colab": {
      "provenance": []
    },
    "kernelspec": {
      "name": "python3",
      "display_name": "Python 3"
    },
    "language_info": {
      "name": "python"
    }
  },
  "cells": [
    {
      "cell_type": "code",
      "execution_count": null,
      "metadata": {
        "id": "SWdtL7wBr_b8"
      },
      "outputs": [],
      "source": []
    },
    {
      "cell_type": "markdown",
      "source": [
        "Q.1> Write a simple program in HTML that displays the heading \"HTML defines the content and structure of your website” on the web browser"
      ],
      "metadata": {
        "id": "YcvuMTOuSnUT"
      }
    },
    {
      "cell_type": "code",
      "source": [
        "<!DOCTYPE html>\n",
        "<html lang=\"en\">\n",
        "<head>\n",
        "<meta charset=\"UTF-8\">\n",
        "<title>HTML Heading</title>\n",
        "</head>\n",
        "<body>\n",
        "<h1>\"HTML defines the content and structure of your website\" </h1>\n",
        "</body>\n",
        "</html>"
      ],
      "metadata": {
        "id": "4iZVaOzsS8AM"
      },
      "execution_count": null,
      "outputs": []
    },
    {
      "cell_type": "markdown",
      "source": [
        " Q.2> Explain the purpose of comments in HTML and provide an example of how to use comments in an HTML document"
      ],
      "metadata": {
        "id": "6ztOrsijT5Ht"
      }
    },
    {
      "cell_type": "markdown",
      "source": [
        "-The main purpose of HTML comments are listed below:\n",
        "\n",
        "\n",
        "*   Documentation: Leave structured notes or purpose of section of codes for the user or for others\n",
        "*   Debugging: Temporarily disable parts of the notes wothout deleting them\n",
        "\n",
        "*   Organization: Seperate different parts of the notes visually for easier navigation. Which actually helps to make the code esaier to understand when revisiting it later.\n",
        "*   Collaboration: Leaves messages or reminders for team menbers.\n",
        "\n",
        "\n",
        "\n",
        "\n",
        "\n"
      ],
      "metadata": {
        "id": "n4saT9PfVmLC"
      }
    },
    {
      "cell_type": "code",
      "source": [
        "<!DOCTYPE html>\n",
        "<html lang=\"en\">\n",
        "<head>\n",
        "<meta charset=\"UTF-8\">\n",
        "<title>HTML COMMENT Example</title>\n",
        "</head>\n",
        "<body>\n",
        "<!-- This is the main haeding for the website-->\n",
        "<h1> Welcome to main page</h1>\n",
        "<!-- Below is the paragraph Describing teh content of the website-->\n",
        "<p> This page actually hepls to decribe the usage of comment in HTML </p>\n",
        "</body>\n",
        "</html>\n",
        "\n"
      ],
      "metadata": {
        "id": "s6x8JRIMVuEL"
      },
      "execution_count": null,
      "outputs": []
    },
    {
      "cell_type": "markdown",
      "source": [
        "Q.3>Write an HTML program that includes a heading, a paragraph of text, a horizontal line, and a line break. Arrange these elements to create a simple web page layout"
      ],
      "metadata": {
        "id": "6juw6VLjZfp2"
      }
    },
    {
      "cell_type": "code",
      "source": [
        "<!DOCTYPE html>\n",
        "<html lang=\"en\">\n",
        "<head>\n",
        "<meta charset=\"UTF-8\">\n",
        "<title>Simple Web-page</title>\n",
        "</head>\n",
        "<body>\n",
        "<h1> Welcome to my simple web page</h1>\n",
        "<hr><!-- This adds a horizontal line -->\n",
        "<p> The p tag or paragraph tag helps to describe the content of the page</p>\n",
        "<br><!--This will braek the line-->\n",
        "</body>\n",
        "</html>"
      ],
      "metadata": {
        "id": "5BTbeZoKZq3v"
      },
      "execution_count": null,
      "outputs": []
    },
    {
      "cell_type": "markdown",
      "source": [
        "Q.4> Write a short note on Tag and element with an example\n"
      ],
      "metadata": {
        "id": "vHoJTFiTdSak"
      }
    },
    {
      "cell_type": "markdown",
      "source": [
        "-Short note of tag and element is provided below:\n",
        "*   Tag: An HTML tag is a piece of code that defines the structure and content of a webpage. Tags are used to create elements like headings, paragraphs, links, images, and more.\n",
        "\n",
        "\n",
        "*   Element:An HTML element is the complete structure made up of an opening tag, content, and a closing tag. It defines how content appears on a webpage.\n",
        "e.x., [<p>This is a pragraph </p>]- All together this is an HTML element.\n",
        "\n"
      ],
      "metadata": {
        "id": "vVF8b5mcdY0d"
      }
    },
    {
      "cell_type": "code",
      "source": [
        "<!-- Tag example-->\n",
        "<br><!--Break tag example-->\n",
        "<!-- Element example-->\n",
        "<p>This is a paragraph</p><!-- This complete structure is an example of element-->"
      ],
      "metadata": {
        "collapsed": true,
        "id": "nnySFN-k01vS"
      },
      "execution_count": null,
      "outputs": []
    },
    {
      "cell_type": "markdown",
      "source": [
        " Q.5>What is the DOCTYPE Declaration in HTML?"
      ],
      "metadata": {
        "id": "BtZ3o8z_0W2x"
      }
    },
    {
      "cell_type": "markdown",
      "source": [
        "-Doctype Declaration: The DOCTYPE declaration in HTML tells the web browser what version of HTML the page is written in. It helps the browser render the page correctly.\n",
        "Purpose:\n",
        "\n",
        "*   Specifies the HTML version\n",
        "*   Ensures the browser uses standards mode instead of quirks mode.\n",
        "\n",
        "*   It must be the very first line in an HTML document\n",
        "*   It is not an HTML tag — it’s just an instruction to the browser.\n",
        "\n",
        "\n",
        "\n",
        "\n"
      ],
      "metadata": {
        "id": "9QWLpO350auo"
      }
    }
  ]
}